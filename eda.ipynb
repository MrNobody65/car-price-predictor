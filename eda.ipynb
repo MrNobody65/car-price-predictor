{
 "cells": [
  {
   "cell_type": "code",
   "execution_count": 1,
   "metadata": {},
   "outputs": [],
   "source": [
    "import numpy as np\n",
    "import pandas as pd\n",
    "import seaborn as sns\n",
    "import matplotlib.pyplot as plt\n",
    "%matplotlib inline\n",
    "import warnings\n",
    "warnings.filterwarnings('ignore')"
   ]
  },
  {
   "cell_type": "code",
   "execution_count": 2,
   "metadata": {},
   "outputs": [],
   "source": [
    "df = pd.read_csv(\"./data/car.csv\")"
   ]
  },
  {
   "cell_type": "code",
   "execution_count": 3,
   "metadata": {},
   "outputs": [
    {
     "data": {
      "text/html": [
       "<div>\n",
       "<style scoped>\n",
       "    .dataframe tbody tr th:only-of-type {\n",
       "        vertical-align: middle;\n",
       "    }\n",
       "\n",
       "    .dataframe tbody tr th {\n",
       "        vertical-align: top;\n",
       "    }\n",
       "\n",
       "    .dataframe thead th {\n",
       "        text-align: right;\n",
       "    }\n",
       "</style>\n",
       "<table border=\"1\" class=\"dataframe\">\n",
       "  <thead>\n",
       "    <tr style=\"text-align: right;\">\n",
       "      <th></th>\n",
       "      <th>id</th>\n",
       "      <th>list_id</th>\n",
       "      <th>list_time</th>\n",
       "      <th>manufacture_date</th>\n",
       "      <th>brand</th>\n",
       "      <th>model</th>\n",
       "      <th>origin</th>\n",
       "      <th>type</th>\n",
       "      <th>seats</th>\n",
       "      <th>gearbox</th>\n",
       "      <th>fuel</th>\n",
       "      <th>color</th>\n",
       "      <th>mileage_v2</th>\n",
       "      <th>price</th>\n",
       "      <th>condition</th>\n",
       "    </tr>\n",
       "  </thead>\n",
       "  <tbody>\n",
       "    <tr>\n",
       "      <th>0</th>\n",
       "      <td>148468232</td>\n",
       "      <td>108616925</td>\n",
       "      <td>1693378633111</td>\n",
       "      <td>1980</td>\n",
       "      <td>Jeep</td>\n",
       "      <td>A2</td>\n",
       "      <td>Mỹ</td>\n",
       "      <td>SUV / Cross over</td>\n",
       "      <td>4.0</td>\n",
       "      <td>MT</td>\n",
       "      <td>petrol</td>\n",
       "      <td>green</td>\n",
       "      <td>40000</td>\n",
       "      <td>380000000.0</td>\n",
       "      <td>used</td>\n",
       "    </tr>\n",
       "    <tr>\n",
       "      <th>1</th>\n",
       "      <td>149864917</td>\n",
       "      <td>109805135</td>\n",
       "      <td>1694308247000</td>\n",
       "      <td>2021</td>\n",
       "      <td>Honda</td>\n",
       "      <td>City</td>\n",
       "      <td>Nhật Bản</td>\n",
       "      <td>Sedan</td>\n",
       "      <td>5.0</td>\n",
       "      <td>AT</td>\n",
       "      <td>petrol</td>\n",
       "      <td>white</td>\n",
       "      <td>23000</td>\n",
       "      <td>455000000.0</td>\n",
       "      <td>used</td>\n",
       "    </tr>\n",
       "    <tr>\n",
       "      <th>2</th>\n",
       "      <td>149580046</td>\n",
       "      <td>109560282</td>\n",
       "      <td>1693462201000</td>\n",
       "      <td>2016</td>\n",
       "      <td>Kia</td>\n",
       "      <td>Rio</td>\n",
       "      <td>Hàn Quốc</td>\n",
       "      <td>NaN</td>\n",
       "      <td>NaN</td>\n",
       "      <td>AT</td>\n",
       "      <td>petrol</td>\n",
       "      <td>NaN</td>\n",
       "      <td>78545</td>\n",
       "      <td>295000000.0</td>\n",
       "      <td>used</td>\n",
       "    </tr>\n",
       "    <tr>\n",
       "      <th>3</th>\n",
       "      <td>148601679</td>\n",
       "      <td>108727914</td>\n",
       "      <td>1693493126176</td>\n",
       "      <td>2020</td>\n",
       "      <td>Toyota</td>\n",
       "      <td>Vios</td>\n",
       "      <td>Việt Nam</td>\n",
       "      <td>Sedan</td>\n",
       "      <td>5.0</td>\n",
       "      <td>MT</td>\n",
       "      <td>petrol</td>\n",
       "      <td>white</td>\n",
       "      <td>99999</td>\n",
       "      <td>368000000.0</td>\n",
       "      <td>used</td>\n",
       "    </tr>\n",
       "    <tr>\n",
       "      <th>4</th>\n",
       "      <td>149530234</td>\n",
       "      <td>109517456</td>\n",
       "      <td>1693313503000</td>\n",
       "      <td>2001</td>\n",
       "      <td>Fiat</td>\n",
       "      <td>Siena</td>\n",
       "      <td>NaN</td>\n",
       "      <td>NaN</td>\n",
       "      <td>NaN</td>\n",
       "      <td>MT</td>\n",
       "      <td>petrol</td>\n",
       "      <td>white</td>\n",
       "      <td>200000</td>\n",
       "      <td>73000000.0</td>\n",
       "      <td>used</td>\n",
       "    </tr>\n",
       "  </tbody>\n",
       "</table>\n",
       "</div>"
      ],
      "text/plain": [
       "          id    list_id      list_time  manufacture_date   brand  model  \\\n",
       "0  148468232  108616925  1693378633111              1980    Jeep     A2   \n",
       "1  149864917  109805135  1694308247000              2021   Honda   City   \n",
       "2  149580046  109560282  1693462201000              2016     Kia    Rio   \n",
       "3  148601679  108727914  1693493126176              2020  Toyota   Vios   \n",
       "4  149530234  109517456  1693313503000              2001    Fiat  Siena   \n",
       "\n",
       "     origin              type  seats gearbox    fuel  color  mileage_v2  \\\n",
       "0        Mỹ  SUV / Cross over    4.0      MT  petrol  green       40000   \n",
       "1  Nhật Bản             Sedan    5.0      AT  petrol  white       23000   \n",
       "2  Hàn Quốc               NaN    NaN      AT  petrol    NaN       78545   \n",
       "3  Việt Nam             Sedan    5.0      MT  petrol  white       99999   \n",
       "4       NaN               NaN    NaN      MT  petrol  white      200000   \n",
       "\n",
       "         price condition  \n",
       "0  380000000.0      used  \n",
       "1  455000000.0      used  \n",
       "2  295000000.0      used  \n",
       "3  368000000.0      used  \n",
       "4   73000000.0      used  "
      ]
     },
     "execution_count": 3,
     "metadata": {},
     "output_type": "execute_result"
    }
   ],
   "source": [
    "df.head()"
   ]
  },
  {
   "cell_type": "code",
   "execution_count": 4,
   "metadata": {},
   "outputs": [
    {
     "data": {
      "text/plain": [
       "(317636, 15)"
      ]
     },
     "execution_count": 4,
     "metadata": {},
     "output_type": "execute_result"
    }
   ],
   "source": [
    "df.shape"
   ]
  },
  {
   "cell_type": "code",
   "execution_count": 5,
   "metadata": {},
   "outputs": [],
   "source": [
    "df.drop([\"id\", \"list_id\", \"list_time\"], axis=1, inplace=True)"
   ]
  },
  {
   "cell_type": "code",
   "execution_count": 6,
   "metadata": {},
   "outputs": [
    {
     "data": {
      "text/plain": [
       "Index(['manufacture_date', 'brand', 'model', 'origin', 'type', 'seats',\n",
       "       'gearbox', 'fuel', 'color', 'mileage_v2', 'price', 'condition'],\n",
       "      dtype='object')"
      ]
     },
     "execution_count": 6,
     "metadata": {},
     "output_type": "execute_result"
    }
   ],
   "source": [
    "df.columns"
   ]
  },
  {
   "cell_type": "code",
   "execution_count": 7,
   "metadata": {},
   "outputs": [],
   "source": [
    "brand_dis = df.brand.value_counts(dropna=False, normalize=True).cumsum()"
   ]
  },
  {
   "cell_type": "code",
   "execution_count": 8,
   "metadata": {},
   "outputs": [
    {
     "data": {
      "text/plain": [
       "'Nissan'"
      ]
     },
     "execution_count": 8,
     "metadata": {},
     "output_type": "execute_result"
    }
   ],
   "source": [
    "brand_dis[brand_dis >= 0.9].index[0]"
   ]
  },
  {
   "cell_type": "code",
   "execution_count": 9,
   "metadata": {},
   "outputs": [
    {
     "data": {
      "text/plain": [
       "['Toyota',\n",
       " 'Ford',\n",
       " 'Hyundai',\n",
       " 'Kia',\n",
       " 'Mitsubishi',\n",
       " 'Mercedes Benz',\n",
       " 'Mazda',\n",
       " 'Honda',\n",
       " 'Chevrolet',\n",
       " 'Vinfast',\n",
       " 'Suzuki',\n",
       " 'BMW']"
      ]
     },
     "execution_count": 9,
     "metadata": {},
     "output_type": "execute_result"
    }
   ],
   "source": [
    "brands = brand_dis[brand_dis <= 0.9].index.to_list()\n",
    "brands"
   ]
  },
  {
   "cell_type": "code",
   "execution_count": 10,
   "metadata": {},
   "outputs": [],
   "source": [
    "brands.append('Nissan')"
   ]
  },
  {
   "cell_type": "code",
   "execution_count": 11,
   "metadata": {},
   "outputs": [],
   "source": [
    "df = df[df.brand.isin(brands)]"
   ]
  },
  {
   "cell_type": "code",
   "execution_count": 12,
   "metadata": {},
   "outputs": [
    {
     "data": {
      "text/plain": [
       "(287954, 12)"
      ]
     },
     "execution_count": 12,
     "metadata": {},
     "output_type": "execute_result"
    }
   ],
   "source": [
    "df.shape"
   ]
  },
  {
   "cell_type": "code",
   "execution_count": 13,
   "metadata": {},
   "outputs": [
    {
     "data": {
      "text/plain": [
       "manufacture_date        0\n",
       "brand                   0\n",
       "model                   0\n",
       "origin              76112\n",
       "type                38231\n",
       "seats               28690\n",
       "gearbox              1371\n",
       "fuel                   44\n",
       "color               87349\n",
       "mileage_v2              0\n",
       "price                 112\n",
       "condition               0\n",
       "dtype: int64"
      ]
     },
     "execution_count": 13,
     "metadata": {},
     "output_type": "execute_result"
    }
   ],
   "source": [
    "df.isna().sum()"
   ]
  },
  {
   "cell_type": "code",
   "execution_count": 14,
   "metadata": {},
   "outputs": [],
   "source": [
    "df.dropna(subset=[\"price\"], inplace=True)"
   ]
  },
  {
   "cell_type": "code",
   "execution_count": 15,
   "metadata": {},
   "outputs": [
    {
     "data": {
      "text/plain": [
       "manufacture_date        0\n",
       "brand                   0\n",
       "model                   0\n",
       "origin              76099\n",
       "type                38209\n",
       "seats               28679\n",
       "gearbox              1371\n",
       "fuel                   44\n",
       "color               87300\n",
       "mileage_v2              0\n",
       "price                   0\n",
       "condition               0\n",
       "dtype: int64"
      ]
     },
     "execution_count": 15,
     "metadata": {},
     "output_type": "execute_result"
    }
   ],
   "source": [
    "df.isna().sum()"
   ]
  },
  {
   "cell_type": "code",
   "execution_count": 16,
   "metadata": {},
   "outputs": [
    {
     "data": {
      "text/plain": [
       "manufacture_date      43\n",
       "brand                 13\n",
       "model                329\n",
       "origin                11\n",
       "type                  10\n",
       "seats                 12\n",
       "gearbox                5\n",
       "fuel                   5\n",
       "color                 13\n",
       "mileage_v2          2995\n",
       "price               1881\n",
       "condition              2\n",
       "dtype: int64"
      ]
     },
     "execution_count": 16,
     "metadata": {},
     "output_type": "execute_result"
    }
   ],
   "source": [
    "df.nunique(dropna=False)"
   ]
  },
  {
   "cell_type": "code",
   "execution_count": 17,
   "metadata": {},
   "outputs": [
    {
     "data": {
      "text/plain": [
       "array([2021, 2016, 2020, 2022, 2018, 2009, 2015, 2008, 2023, 2007, 2004,\n",
       "       2019, 2014, 2010, 2012, 2003, 2011, 2017, 2006, 1999, 2013, 1994,\n",
       "       1992, 2000, 2002, 1996, 2005, 1998, 1995, 2001, 1997, 1986, 1990,\n",
       "       1985, 1989, 1984, 1980, 1993, 1988, 1991, 1987, 1983, 1982],\n",
       "      dtype=int64)"
      ]
     },
     "execution_count": 17,
     "metadata": {},
     "output_type": "execute_result"
    }
   ],
   "source": [
    "df.manufacture_date.unique()"
   ]
  },
  {
   "cell_type": "code",
   "execution_count": 18,
   "metadata": {},
   "outputs": [
    {
     "data": {
      "text/plain": [
       "array(['Nhật Bản', 'Hàn Quốc', 'Việt Nam', 'Nước khác', nan, 'Đức',\n",
       "       'Ấn Độ', 'Thái Lan', 'Đài Loan', 'Mỹ', 'Trung Quốc'], dtype=object)"
      ]
     },
     "execution_count": 18,
     "metadata": {},
     "output_type": "execute_result"
    }
   ],
   "source": [
    "df.origin.unique()"
   ]
  },
  {
   "cell_type": "code",
   "execution_count": 19,
   "metadata": {},
   "outputs": [
    {
     "data": {
      "text/plain": [
       "array(['Sedan', nan, 'SUV / Cross over', 'Minivan (MPV)', 'Van',\n",
       "       'Hatchback', 'Pick-up (bán tải)', 'Coupe (2 cửa)',\n",
       "       'Kiểu dáng khác', 'Mui trần'], dtype=object)"
      ]
     },
     "execution_count": 19,
     "metadata": {},
     "output_type": "execute_result"
    }
   ],
   "source": [
    "df.type.unique()"
   ]
  },
  {
   "cell_type": "code",
   "execution_count": 20,
   "metadata": {},
   "outputs": [
    {
     "data": {
      "text/plain": [
       "array([ 5., nan,  8.,  7.,  4., 16.,  9.,  2.,  6., -1., 12., 10.])"
      ]
     },
     "execution_count": 20,
     "metadata": {},
     "output_type": "execute_result"
    }
   ],
   "source": [
    "df.seats.unique()"
   ]
  },
  {
   "cell_type": "code",
   "execution_count": 21,
   "metadata": {},
   "outputs": [
    {
     "data": {
      "text/plain": [
       "array(['AT', 'MT', 'AMT', nan, 'unknown'], dtype=object)"
      ]
     },
     "execution_count": 21,
     "metadata": {},
     "output_type": "execute_result"
    }
   ],
   "source": [
    "df.gearbox.unique()"
   ]
  },
  {
   "cell_type": "code",
   "execution_count": 22,
   "metadata": {},
   "outputs": [
    {
     "data": {
      "text/plain": [
       "array(['petrol', 'oil', 'electric', 'hybrid', nan], dtype=object)"
      ]
     },
     "execution_count": 22,
     "metadata": {},
     "output_type": "execute_result"
    }
   ],
   "source": [
    "df.fuel.unique()"
   ]
  },
  {
   "cell_type": "code",
   "execution_count": 23,
   "metadata": {},
   "outputs": [
    {
     "data": {
      "text/plain": [
       "array(['white', nan, 'black', 'grey', 'others', 'green', 'gold', 'silver',\n",
       "       'blue', 'red', 'orange', 'pink', 'brown'], dtype=object)"
      ]
     },
     "execution_count": 23,
     "metadata": {},
     "output_type": "execute_result"
    }
   ],
   "source": [
    "df.color.unique()"
   ]
  },
  {
   "cell_type": "code",
   "execution_count": 24,
   "metadata": {},
   "outputs": [
    {
     "data": {
      "text/plain": [
       "array([0], dtype=int64)"
      ]
     },
     "execution_count": 24,
     "metadata": {},
     "output_type": "execute_result"
    }
   ],
   "source": [
    "df[df.mileage_v2 <= 0].mileage_v2.unique()"
   ]
  },
  {
   "cell_type": "code",
   "execution_count": 25,
   "metadata": {},
   "outputs": [
    {
     "data": {
      "text/plain": [
       "343"
      ]
     },
     "execution_count": 25,
     "metadata": {},
     "output_type": "execute_result"
    }
   ],
   "source": [
    "df.groupby(\"brand\").model.nunique().sum()"
   ]
  },
  {
   "cell_type": "code",
   "execution_count": 26,
   "metadata": {},
   "outputs": [
    {
     "data": {
      "text/plain": [
       "249631"
      ]
     },
     "execution_count": 26,
     "metadata": {},
     "output_type": "execute_result"
    }
   ],
   "source": [
    "df.duplicated().sum()"
   ]
  },
  {
   "cell_type": "code",
   "execution_count": 27,
   "metadata": {},
   "outputs": [
    {
     "data": {
      "text/plain": [
       "(245442, 12)"
      ]
     },
     "execution_count": 27,
     "metadata": {},
     "output_type": "execute_result"
    }
   ],
   "source": [
    "used_df = df[df.condition == 'used']\n",
    "used_df.shape"
   ]
  },
  {
   "cell_type": "code",
   "execution_count": 28,
   "metadata": {},
   "outputs": [
    {
     "data": {
      "text/plain": [
       "(42400, 12)"
      ]
     },
     "execution_count": 28,
     "metadata": {},
     "output_type": "execute_result"
    }
   ],
   "source": [
    "new_df = df[df.condition == 'new']\n",
    "new_df.shape"
   ]
  },
  {
   "cell_type": "code",
   "execution_count": 29,
   "metadata": {},
   "outputs": [],
   "source": [
    "df['Z-Score'] = (df['price'] - df['price'].mean()) / df['price'].std()"
   ]
  },
  {
   "cell_type": "code",
   "execution_count": 30,
   "metadata": {},
   "outputs": [],
   "source": [
    "df = df[np.abs(df['Z-Score']) <= 3]"
   ]
  },
  {
   "cell_type": "code",
   "execution_count": 31,
   "metadata": {},
   "outputs": [
    {
     "data": {
      "text/plain": [
       "(283895, 13)"
      ]
     },
     "execution_count": 31,
     "metadata": {},
     "output_type": "execute_result"
    }
   ],
   "source": [
    "df.shape"
   ]
  },
  {
   "cell_type": "code",
   "execution_count": 32,
   "metadata": {},
   "outputs": [
    {
     "data": {
      "text/plain": [
       "manufacture_date      43\n",
       "brand                 13\n",
       "model                318\n",
       "origin                10\n",
       "type                   9\n",
       "seats                 11\n",
       "gearbox                4\n",
       "fuel                   4\n",
       "color                 12\n",
       "mileage_v2          2978\n",
       "price               1504\n",
       "condition              1\n",
       "Z-Score             1504\n",
       "dtype: int64"
      ]
     },
     "execution_count": 32,
     "metadata": {},
     "output_type": "execute_result"
    }
   ],
   "source": [
    "df[df.condition == 'used'].nunique()"
   ]
  },
  {
   "cell_type": "code",
   "execution_count": 33,
   "metadata": {},
   "outputs": [
    {
     "data": {
      "text/plain": [
       "manufacture_date        0\n",
       "brand                   0\n",
       "model                   0\n",
       "origin              75526\n",
       "type                37627\n",
       "seats               28185\n",
       "gearbox              1371\n",
       "fuel                   44\n",
       "color               86443\n",
       "mileage_v2              0\n",
       "price                   0\n",
       "condition               0\n",
       "Z-Score                 0\n",
       "dtype: int64"
      ]
     },
     "execution_count": 33,
     "metadata": {},
     "output_type": "execute_result"
    }
   ],
   "source": [
    "df.isna().sum()"
   ]
  },
  {
   "cell_type": "code",
   "execution_count": 34,
   "metadata": {},
   "outputs": [
    {
     "data": {
      "image/png": "[encoded data removed]",
      "text/plain": [
       "<Figure size 1500x700 with 2 Axes>"
      ]
     },
     "metadata": {},
     "output_type": "display_data"
    }
   ],
   "source": [
    "fig, axs = plt.subplots(1, 2, figsize=(15, 7))\n",
    "plt.subplot(121)\n",
    "sns.histplot(data=df,x='price',bins=30,kde=True,color='g')\n",
    "plt.subplot(122)\n",
    "sns.histplot(data=df,x='price',kde=True,hue='condition')\n",
    "plt.show()"
   ]
  },
  {
   "cell_type": "code",
   "execution_count": 36,
   "metadata": {},
   "outputs": [
    {
     "data": {
      "text/plain": [
       "(0, 999999)"
      ]
     },
     "execution_count": 36,
     "metadata": {},
     "output_type": "execute_result"
    }
   ],
   "source": [
    "df.mileage_v2.min(), df.mileage_v2.max()"
   ]
  },
  {
   "cell_type": "code",
   "execution_count": 35,
   "metadata": {},
   "outputs": [
    {
     "data": {
      "text/plain": [
       "(1310720.0, 2230000000.0)"
      ]
     },
     "execution_count": 35,
     "metadata": {},
     "output_type": "execute_result"
    }
   ],
   "source": [
    "df.price.min(), df.price.max()"
   ]
  },
  {
   "cell_type": "code",
   "execution_count": 37,
   "metadata": {},
   "outputs": [],
   "source": [
    "df[\"brand_model\"] = df[\"brand\"] + \" \" + df[\"model\"]"
   ]
  },
  {
   "cell_type": "code",
   "execution_count": 42,
   "metadata": {},
   "outputs": [
    {
     "name": "stdout",
     "output_type": "stream",
     "text": [
      "Honda\n",
      "['City' 'Civic' 'CR V' 'Accord' 'Brio' 'HR-V' 'Jazz' 'Dòng khác' 'BR-V'\n",
      " 'Odyssey' 'Pilot' 'CR X' 'Legend' 'Vigor' 'NSX']\n",
      "Kia\n",
      "['Rio' 'Morning' 'Soluto' 'K3' 'Cerato' 'Forte' 'Dòng khác' 'Rondo'\n",
      " 'Carnival' 'Spectra' 'Seltos' 'Sorento' 'Magentis' 'Carens' 'K5' 'CD5'\n",
      " 'Sedona' 'Sonet' 'Pride' 'Optima' 'Sportage' 'Picanto' 'Quoris'\n",
      " 'Cerato Koup' 'Potentia' 'Soul' 'Sephia' 'Cadenza' 'Enterprise' 'Pregio'\n",
      " 'Concord']\n",
      "Toyota\n",
      "['Vios' 'Innova' 'Camry' 'Corolla Altis' 'Avanza' 'Wigo' 'Fortuner'\n",
      " 'Veloz' 'Zace' 'Veloz Cross' 'Corolla Cross' 'Yaris' 'Raize' 'Cressida'\n",
      " 'Innova Cross' 'Hilux' 'Rush' 'Venza' 'Hiace' 'Land Cruiser' 'Corolla'\n",
      " 'Dòng khác' 'Liteace' 'Celica' 'Sienna' 'Corona' 'RAV4' 'Tercel'\n",
      " 'Century' 'Prado' 'Previa' 'Land Cruiser Prado' 'Avalon' 'Prius'\n",
      " 'Highlander' 'Solara' '4 Runner' 'Crown' '86' 'Aygo' 'Wish' 'IQ' 'Aristo'\n",
      " 'Fj cruiser' 'Yaris Verso' 'Tundra' 'Sequoia' 'Vista' 'Caldina' 'Alphard'\n",
      " 'Aurion' 'Cami']\n",
      "Hyundai\n",
      "['Elantra' 'Grand i10' 'Dòng khác' 'Accent' 'Creta' 'Getz' 'County'\n",
      " 'Genesis' 'Tucson' 'Santa Fe' 'Grand Starex' 'Sonata' 'Stargazer' 'i20'\n",
      " 'Libero' 'Starex' 'Veloster' 'Kona' 'Universe Xpress Luxury' 'Eon'\n",
      " 'Avante' 'Atos' 'Grandeur' 'i30' 'Veracruz' 'Solati' 'H 1' 'Terracan'\n",
      " 'Coupe' 'Azera' 'Custin' 'Tiburon' 'Galloper' 'Verna' 'Ioniq 5' 'Tuscani'\n",
      " 'Palisade' 'Universe' 'Mighty' 'Trajet' 'Gold' 'Click' 'Centennial'\n",
      " 'Lantra' 'Xcent' 'eMighty' 'XG' 'Sota']\n",
      "Mitsubishi\n",
      "['Xpander' 'Outlander' 'Attrage' 'Pajero' 'Jolie' 'Xpander Cross' 'Triton'\n",
      " 'Grandis' 'Lancer' 'Mirage' 'Dòng khác' 'Pajero Sport' 'Zinger' 'Galant'\n",
      " 'Grunder' 'L300' 'Montero' 'Outlander Sport' '3000GT' 'Eclipse' 'Libero'\n",
      " 'Diamante' 'Challenger' 'Colt']\n",
      "Mercedes Benz\n",
      "['Sprinter' 'C Class' 'E Class' 'MB' 'CLA Class' 'GLC' 'Dòng khác'\n",
      " 'GL Class' 'R Class' 'GLE Class' 'S Class' 'A Class' 'GLA Class'\n",
      " 'GLC Class' 'GLB' 'ML Class' 'V Class' 'GLK Class' 'CLK Class'\n",
      " 'SLK Class' 'M Class' 'CLS Class' 'AMG' 'Maybach' 'Vito' 'B Class'\n",
      " 'CL Class' 'GLS Class' '190' 'G Class']\n",
      "Mazda\n",
      "['2' '3' 'CX-30' 'CX 5' '323' '6' 'CX 3' 'BT 50' 'CX 8' '5' 'Premacy'\n",
      " 'CX 9' 'Dòng khác' 'MX 6' '626' '929' 'Atenza' 'Tribute' 'MX 3']\n",
      "Chevrolet\n",
      "['Spark' 'Aveo' 'Colorado' 'Captiva' 'Cruze' 'Dòng khác' 'Orlando'\n",
      " 'Trailblazer' 'Matiz' 'Vivant' 'Lacetti' 'Trax' 'Camaro' 'Chevyvan'\n",
      " 'S 10' 'SSR' 'Nubira' 'Lumina' 'Astro' 'Avanlanche' 'Cavalier']\n",
      "Ford\n",
      "['Escape' 'Ranger' 'Everest' 'Focus' 'Dòng khác' 'Mondeo' 'Explorer'\n",
      " 'Escort' 'Territory' 'EcoSport' 'Transit' 'Laser' 'Fiesta' 'Tourneo'\n",
      " 'Wind star' 'Mustang' 'Contour' 'Acononline' 'Express' 'Focus C Max'\n",
      " 'Fucion' 'Caravan' 'Ka' 'Aspire']\n",
      "Vinfast\n",
      "['Fadil' 'VF5' 'VF8' 'Lux A2.0' 'Lux SA2.0' 'VFe34' 'Dòng khác' 'VF9'\n",
      " '1083' '3']\n",
      "Nissan\n",
      "['Sunny' 'Navara' 'Grand livina' 'Livina' 'Elgrand' 'X trail' 'X Terra'\n",
      " 'Teana' 'Tiida' 'Cedric' 'Almera' 'Dòng khác' 'Kicks' 'Bluebird' 'Murano'\n",
      " 'Rogue' 'Juke' 'Altima' 'Stagea' 'Terrano' 'President' 'Cefiro' 'Pixo'\n",
      " 'Pick up' 'Maxima' 'Sentra' 'Prairie' 'Laurel' 'Qashqai']\n",
      "BMW\n",
      "['5 Series' 'X5' 'X1' '6 Series' 'X6' '3 Series' 'Dòng khác' 'X3'\n",
      " '1 Series' 'Z4' '4 Series' '7 Series' '2 Series' 'X4' 'M6' 'X2' 'M3' 'i3']\n",
      "Suzuki\n",
      "['Dòng khác' 'Swift' 'Celerio' 'Alto' 'Ertiga' 'XL 7' 'Aerio' 'Vitara'\n",
      " 'Ciaz' 'Grand vitara' 'APV' 'Samirai' 'Wagon R+' 'Cultis wagon' 'Balenno']\n"
     ]
    }
   ],
   "source": [
    "for brand in df.brand.unique():\n",
    "    print(brand)\n",
    "    print(df[df.brand == brand].model.unique())"
   ]
  }
 ],
 "metadata": {
  "kernelspec": {
   "display_name": "Python 3",
   "language": "python",
   "name": "python3"
  },
  "language_info": {
   "codemirror_mode": {
    "name": "ipython",
    "version": 3
   },
   "file_extension": ".py",
   "mimetype": "text/x-python",
   "name": "python",
   "nbconvert_exporter": "python",
   "pygments_lexer": "ipython3",
   "version": "3.11.0"
  }
 },
 "nbformat": 4,
 "nbformat_minor": 2
}
